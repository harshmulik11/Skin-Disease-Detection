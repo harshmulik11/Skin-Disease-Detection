{
  "cells": [
    {
      "cell_type": "code",
      "execution_count": null,
      "metadata": {
        "colab": {
          "base_uri": "https://localhost:8080/"
        },
        "id": "3ASXpOoOK_oo",
        "outputId": "31d0abdb-7553-47a3-b15c-c6c5a5d06e50"
      },
      "outputs": [
        {
          "output_type": "stream",
          "name": "stdout",
          "text": [
            "TensorFlow Version :  2.12.0\n",
            "TensorFlow Hub Version :  0.13.0\n"
          ]
        }
      ],
      "source": [
        "# Import TensorFlow into Colab\n",
        "import tensorflow as tf\n",
        "import tensorflow_hub as hub\n",
        "print(\"TensorFlow Version : \", tf.__version__)\n",
        "print(\"TensorFlow Hub Version : \", hub.__version__)"
      ]
    },
    {
      "cell_type": "code",
      "execution_count": null,
      "metadata": {
        "colab": {
          "base_uri": "https://localhost:8080/"
        },
        "id": "aZefnA1pLE2Q",
        "outputId": "99cc15aa-7a3a-4fb4-be31-d199717a9069"
      },
      "outputs": [
        {
          "output_type": "stream",
          "name": "stdout",
          "text": [
            "Mounted at /content/drive\n"
          ]
        }
      ],
      "source": [
        "from google.colab import drive\n",
        "drive.mount('/content/drive')"
      ]
    },
    {
      "cell_type": "code",
      "source": [
        "# !unzip \"/content/drive/MyDrive/SkinDiseaseClassifier.zip\" -d \"/content/drive/MyDrive/SkinDiseaseClassifier\""
      ],
      "metadata": {
        "id": "VBN3Hu_WqqzA"
      },
      "execution_count": null,
      "outputs": []
    },
    {
      "cell_type": "code",
      "execution_count": null,
      "metadata": {
        "id": "lEAN1j3XLG2j"
      },
      "outputs": [],
      "source": [
        "import warnings\n",
        "warnings.simplefilter(\"ignore\", category=PendingDeprecationWarning) # Handle Deprecation Warnings"
      ]
    },
    {
      "cell_type": "code",
      "execution_count": null,
      "metadata": {
        "id": "OGPSdrraLITt",
        "colab": {
          "base_uri": "https://localhost:8080/",
          "height": 49
        },
        "outputId": "3fca5bb3-eaee-4acb-c3cb-d9931e778e72"
      },
      "outputs": [
        {
          "output_type": "execute_result",
          "data": {
            "text/plain": [
              "Empty DataFrame\n",
              "Columns: [filenames, labels]\n",
              "Index: []"
            ],
            "text/html": [
              "\n",
              "  <div id=\"df-eeeaa289-7db0-494d-a4a4-c7c50d36cdf1\">\n",
              "    <div class=\"colab-df-container\">\n",
              "      <div>\n",
              "<style scoped>\n",
              "    .dataframe tbody tr th:only-of-type {\n",
              "        vertical-align: middle;\n",
              "    }\n",
              "\n",
              "    .dataframe tbody tr th {\n",
              "        vertical-align: top;\n",
              "    }\n",
              "\n",
              "    .dataframe thead th {\n",
              "        text-align: right;\n",
              "    }\n",
              "</style>\n",
              "<table border=\"1\" class=\"dataframe\">\n",
              "  <thead>\n",
              "    <tr style=\"text-align: right;\">\n",
              "      <th></th>\n",
              "      <th>filenames</th>\n",
              "      <th>labels</th>\n",
              "    </tr>\n",
              "  </thead>\n",
              "  <tbody>\n",
              "  </tbody>\n",
              "</table>\n",
              "</div>\n",
              "      <button class=\"colab-df-convert\" onclick=\"convertToInteractive('df-eeeaa289-7db0-494d-a4a4-c7c50d36cdf1')\"\n",
              "              title=\"Convert this dataframe to an interactive table.\"\n",
              "              style=\"display:none;\">\n",
              "        \n",
              "  <svg xmlns=\"http://www.w3.org/2000/svg\" height=\"24px\"viewBox=\"0 0 24 24\"\n",
              "       width=\"24px\">\n",
              "    <path d=\"M0 0h24v24H0V0z\" fill=\"none\"/>\n",
              "    <path d=\"M18.56 5.44l.94 2.06.94-2.06 2.06-.94-2.06-.94-.94-2.06-.94 2.06-2.06.94zm-11 1L8.5 8.5l.94-2.06 2.06-.94-2.06-.94L8.5 2.5l-.94 2.06-2.06.94zm10 10l.94 2.06.94-2.06 2.06-.94-2.06-.94-.94-2.06-.94 2.06-2.06.94z\"/><path d=\"M17.41 7.96l-1.37-1.37c-.4-.4-.92-.59-1.43-.59-.52 0-1.04.2-1.43.59L10.3 9.45l-7.72 7.72c-.78.78-.78 2.05 0 2.83L4 21.41c.39.39.9.59 1.41.59.51 0 1.02-.2 1.41-.59l7.78-7.78 2.81-2.81c.8-.78.8-2.07 0-2.86zM5.41 20L4 18.59l7.72-7.72 1.47 1.35L5.41 20z\"/>\n",
              "  </svg>\n",
              "      </button>\n",
              "      \n",
              "  <style>\n",
              "    .colab-df-container {\n",
              "      display:flex;\n",
              "      flex-wrap:wrap;\n",
              "      gap: 12px;\n",
              "    }\n",
              "\n",
              "    .colab-df-convert {\n",
              "      background-color: #E8F0FE;\n",
              "      border: none;\n",
              "      border-radius: 50%;\n",
              "      cursor: pointer;\n",
              "      display: none;\n",
              "      fill: #1967D2;\n",
              "      height: 32px;\n",
              "      padding: 0 0 0 0;\n",
              "      width: 32px;\n",
              "    }\n",
              "\n",
              "    .colab-df-convert:hover {\n",
              "      background-color: #E2EBFA;\n",
              "      box-shadow: 0px 1px 2px rgba(60, 64, 67, 0.3), 0px 1px 3px 1px rgba(60, 64, 67, 0.15);\n",
              "      fill: #174EA6;\n",
              "    }\n",
              "\n",
              "    [theme=dark] .colab-df-convert {\n",
              "      background-color: #3B4455;\n",
              "      fill: #D2E3FC;\n",
              "    }\n",
              "\n",
              "    [theme=dark] .colab-df-convert:hover {\n",
              "      background-color: #434B5C;\n",
              "      box-shadow: 0px 1px 3px 1px rgba(0, 0, 0, 0.15);\n",
              "      filter: drop-shadow(0px 1px 2px rgba(0, 0, 0, 0.3));\n",
              "      fill: #FFFFFF;\n",
              "    }\n",
              "  </style>\n",
              "\n",
              "      <script>\n",
              "        const buttonEl =\n",
              "          document.querySelector('#df-eeeaa289-7db0-494d-a4a4-c7c50d36cdf1 button.colab-df-convert');\n",
              "        buttonEl.style.display =\n",
              "          google.colab.kernel.accessAllowed ? 'block' : 'none';\n",
              "\n",
              "        async function convertToInteractive(key) {\n",
              "          const element = document.querySelector('#df-eeeaa289-7db0-494d-a4a4-c7c50d36cdf1');\n",
              "          const dataTable =\n",
              "            await google.colab.kernel.invokeFunction('convertToInteractive',\n",
              "                                                     [key], {});\n",
              "          if (!dataTable) return;\n",
              "\n",
              "          const docLinkHtml = 'Like what you see? Visit the ' +\n",
              "            '<a target=\"_blank\" href=https://colab.research.google.com/notebooks/data_table.ipynb>data table notebook</a>'\n",
              "            + ' to learn more about interactive tables.';\n",
              "          element.innerHTML = '';\n",
              "          dataTable['output_type'] = 'display_data';\n",
              "          await google.colab.output.renderOutput(dataTable, element);\n",
              "          const docLink = document.createElement('div');\n",
              "          docLink.innerHTML = docLinkHtml;\n",
              "          element.appendChild(docLink);\n",
              "        }\n",
              "      </script>\n",
              "    </div>\n",
              "  </div>\n",
              "  "
            ]
          },
          "metadata": {},
          "execution_count": 6
        }
      ],
      "source": [
        "import pandas as pd\n",
        "labels = pd.DataFrame(columns = [\"filenames\",\"labels\"])\n",
        "labels"
      ]
    },
    {
      "cell_type": "code",
      "execution_count": null,
      "metadata": {
        "id": "AeqbcHM2LKeO"
      },
      "outputs": [],
      "source": [
        "import os\n",
        "i = \"/content/drive/MyDrive/SkinDiseaseClassifier/train/\"\n",
        "for j in os.listdir(i):\n",
        "    for k in os.listdir(i+j+\"/\"):\n",
        "        labels.loc[len(labels.index)] = [i+j+\"/\"+k, j]\n",
        "\n",
        "labels.to_csv(\"/content/drive/MyDrive/SkinDiseaseClassifier/labels.csv\")"
      ]
    },
    {
      "cell_type": "code",
      "execution_count": null,
      "metadata": {
        "id": "EYQ5pMksWzdO"
      },
      "outputs": [],
      "source": [
        "# # Import CSV\n",
        "# import os\n",
        "# import pandas as pd\n",
        "# import numpy as np\n",
        "# labels = pd.read_csv('/content/drive/MyDrive/SkinDiseaseClassifier/labels.csv')\n",
        "# unique_labels = np.unique(labels[\"labels\"])"
      ]
    },
    {
      "cell_type": "code",
      "execution_count": null,
      "metadata": {
        "id": "lc2pIa9mPnKR",
        "colab": {
          "base_uri": "https://localhost:8080/",
          "height": 206
        },
        "outputId": "63c1fede-8882-491b-9584-20d0d860cf4a"
      },
      "outputs": [
        {
          "output_type": "execute_result",
          "data": {
            "text/plain": [
              "                                              filenames  \\\n",
              "1899  /content/drive/MyDrive/SkinDiseaseClassifier/t...   \n",
              "1900  /content/drive/MyDrive/SkinDiseaseClassifier/t...   \n",
              "1901  /content/drive/MyDrive/SkinDiseaseClassifier/t...   \n",
              "1902  /content/drive/MyDrive/SkinDiseaseClassifier/t...   \n",
              "1903  /content/drive/MyDrive/SkinDiseaseClassifier/t...   \n",
              "\n",
              "                                                 labels  \n",
              "1899  Tinea Ringworm Candidiasis and other Fungal In...  \n",
              "1900  Tinea Ringworm Candidiasis and other Fungal In...  \n",
              "1901  Tinea Ringworm Candidiasis and other Fungal In...  \n",
              "1902  Tinea Ringworm Candidiasis and other Fungal In...  \n",
              "1903  Tinea Ringworm Candidiasis and other Fungal In...  "
            ],
            "text/html": [
              "\n",
              "  <div id=\"df-8561089e-e6b4-4218-8b9a-fd70384dd95c\">\n",
              "    <div class=\"colab-df-container\">\n",
              "      <div>\n",
              "<style scoped>\n",
              "    .dataframe tbody tr th:only-of-type {\n",
              "        vertical-align: middle;\n",
              "    }\n",
              "\n",
              "    .dataframe tbody tr th {\n",
              "        vertical-align: top;\n",
              "    }\n",
              "\n",
              "    .dataframe thead th {\n",
              "        text-align: right;\n",
              "    }\n",
              "</style>\n",
              "<table border=\"1\" class=\"dataframe\">\n",
              "  <thead>\n",
              "    <tr style=\"text-align: right;\">\n",
              "      <th></th>\n",
              "      <th>filenames</th>\n",
              "      <th>labels</th>\n",
              "    </tr>\n",
              "  </thead>\n",
              "  <tbody>\n",
              "    <tr>\n",
              "      <th>1899</th>\n",
              "      <td>/content/drive/MyDrive/SkinDiseaseClassifier/t...</td>\n",
              "      <td>Tinea Ringworm Candidiasis and other Fungal In...</td>\n",
              "    </tr>\n",
              "    <tr>\n",
              "      <th>1900</th>\n",
              "      <td>/content/drive/MyDrive/SkinDiseaseClassifier/t...</td>\n",
              "      <td>Tinea Ringworm Candidiasis and other Fungal In...</td>\n",
              "    </tr>\n",
              "    <tr>\n",
              "      <th>1901</th>\n",
              "      <td>/content/drive/MyDrive/SkinDiseaseClassifier/t...</td>\n",
              "      <td>Tinea Ringworm Candidiasis and other Fungal In...</td>\n",
              "    </tr>\n",
              "    <tr>\n",
              "      <th>1902</th>\n",
              "      <td>/content/drive/MyDrive/SkinDiseaseClassifier/t...</td>\n",
              "      <td>Tinea Ringworm Candidiasis and other Fungal In...</td>\n",
              "    </tr>\n",
              "    <tr>\n",
              "      <th>1903</th>\n",
              "      <td>/content/drive/MyDrive/SkinDiseaseClassifier/t...</td>\n",
              "      <td>Tinea Ringworm Candidiasis and other Fungal In...</td>\n",
              "    </tr>\n",
              "  </tbody>\n",
              "</table>\n",
              "</div>\n",
              "      <button class=\"colab-df-convert\" onclick=\"convertToInteractive('df-8561089e-e6b4-4218-8b9a-fd70384dd95c')\"\n",
              "              title=\"Convert this dataframe to an interactive table.\"\n",
              "              style=\"display:none;\">\n",
              "        \n",
              "  <svg xmlns=\"http://www.w3.org/2000/svg\" height=\"24px\"viewBox=\"0 0 24 24\"\n",
              "       width=\"24px\">\n",
              "    <path d=\"M0 0h24v24H0V0z\" fill=\"none\"/>\n",
              "    <path d=\"M18.56 5.44l.94 2.06.94-2.06 2.06-.94-2.06-.94-.94-2.06-.94 2.06-2.06.94zm-11 1L8.5 8.5l.94-2.06 2.06-.94-2.06-.94L8.5 2.5l-.94 2.06-2.06.94zm10 10l.94 2.06.94-2.06 2.06-.94-2.06-.94-.94-2.06-.94 2.06-2.06.94z\"/><path d=\"M17.41 7.96l-1.37-1.37c-.4-.4-.92-.59-1.43-.59-.52 0-1.04.2-1.43.59L10.3 9.45l-7.72 7.72c-.78.78-.78 2.05 0 2.83L4 21.41c.39.39.9.59 1.41.59.51 0 1.02-.2 1.41-.59l7.78-7.78 2.81-2.81c.8-.78.8-2.07 0-2.86zM5.41 20L4 18.59l7.72-7.72 1.47 1.35L5.41 20z\"/>\n",
              "  </svg>\n",
              "      </button>\n",
              "      \n",
              "  <style>\n",
              "    .colab-df-container {\n",
              "      display:flex;\n",
              "      flex-wrap:wrap;\n",
              "      gap: 12px;\n",
              "    }\n",
              "\n",
              "    .colab-df-convert {\n",
              "      background-color: #E8F0FE;\n",
              "      border: none;\n",
              "      border-radius: 50%;\n",
              "      cursor: pointer;\n",
              "      display: none;\n",
              "      fill: #1967D2;\n",
              "      height: 32px;\n",
              "      padding: 0 0 0 0;\n",
              "      width: 32px;\n",
              "    }\n",
              "\n",
              "    .colab-df-convert:hover {\n",
              "      background-color: #E2EBFA;\n",
              "      box-shadow: 0px 1px 2px rgba(60, 64, 67, 0.3), 0px 1px 3px 1px rgba(60, 64, 67, 0.15);\n",
              "      fill: #174EA6;\n",
              "    }\n",
              "\n",
              "    [theme=dark] .colab-df-convert {\n",
              "      background-color: #3B4455;\n",
              "      fill: #D2E3FC;\n",
              "    }\n",
              "\n",
              "    [theme=dark] .colab-df-convert:hover {\n",
              "      background-color: #434B5C;\n",
              "      box-shadow: 0px 1px 3px 1px rgba(0, 0, 0, 0.15);\n",
              "      filter: drop-shadow(0px 1px 2px rgba(0, 0, 0, 0.3));\n",
              "      fill: #FFFFFF;\n",
              "    }\n",
              "  </style>\n",
              "\n",
              "      <script>\n",
              "        const buttonEl =\n",
              "          document.querySelector('#df-8561089e-e6b4-4218-8b9a-fd70384dd95c button.colab-df-convert');\n",
              "        buttonEl.style.display =\n",
              "          google.colab.kernel.accessAllowed ? 'block' : 'none';\n",
              "\n",
              "        async function convertToInteractive(key) {\n",
              "          const element = document.querySelector('#df-8561089e-e6b4-4218-8b9a-fd70384dd95c');\n",
              "          const dataTable =\n",
              "            await google.colab.kernel.invokeFunction('convertToInteractive',\n",
              "                                                     [key], {});\n",
              "          if (!dataTable) return;\n",
              "\n",
              "          const docLinkHtml = 'Like what you see? Visit the ' +\n",
              "            '<a target=\"_blank\" href=https://colab.research.google.com/notebooks/data_table.ipynb>data table notebook</a>'\n",
              "            + ' to learn more about interactive tables.';\n",
              "          element.innerHTML = '';\n",
              "          dataTable['output_type'] = 'display_data';\n",
              "          await google.colab.output.renderOutput(dataTable, element);\n",
              "          const docLink = document.createElement('div');\n",
              "          docLink.innerHTML = docLinkHtml;\n",
              "          element.appendChild(docLink);\n",
              "        }\n",
              "      </script>\n",
              "    </div>\n",
              "  </div>\n",
              "  "
            ]
          },
          "metadata": {},
          "execution_count": 9
        }
      ],
      "source": [
        "labels.tail()"
      ]
    },
    {
      "cell_type": "code",
      "execution_count": null,
      "metadata": {
        "id": "rUlc7UaSTxnd",
        "colab": {
          "base_uri": "https://localhost:8080/"
        },
        "outputId": "a0fb102a-fa88-4dbb-990d-f62f0cdf0c51"
      },
      "outputs": [
        {
          "output_type": "execute_result",
          "data": {
            "text/plain": [
              "['/content/drive/MyDrive/SkinDiseaseClassifier/train/Acne and Rosacea Photos/acne-cystic-6.jpg',\n",
              " '/content/drive/MyDrive/SkinDiseaseClassifier/train/Acne and Rosacea Photos/acne-cystic-129.jpg',\n",
              " '/content/drive/MyDrive/SkinDiseaseClassifier/train/Acne and Rosacea Photos/acne-closed-comedo-4.jpg',\n",
              " '/content/drive/MyDrive/SkinDiseaseClassifier/train/Acne and Rosacea Photos/acne-cystic-92.jpg',\n",
              " '/content/drive/MyDrive/SkinDiseaseClassifier/train/Acne and Rosacea Photos/07AcnePittedScars1.jpg',\n",
              " '/content/drive/MyDrive/SkinDiseaseClassifier/train/Acne and Rosacea Photos/acne-cystic-16.jpg',\n",
              " '/content/drive/MyDrive/SkinDiseaseClassifier/train/Acne and Rosacea Photos/acne-cystic-87.jpg',\n",
              " '/content/drive/MyDrive/SkinDiseaseClassifier/train/Acne and Rosacea Photos/acne-cystic-29.jpg',\n",
              " '/content/drive/MyDrive/SkinDiseaseClassifier/train/Acne and Rosacea Photos/acne-cystic-39.jpg',\n",
              " '/content/drive/MyDrive/SkinDiseaseClassifier/train/Acne and Rosacea Photos/acne-closed-comedo-19.jpg']"
            ]
          },
          "metadata": {},
          "execution_count": 10
        }
      ],
      "source": [
        "# Create pathnames from image IDs\n",
        "filenames = []\n",
        "for i in range(0, len(labels)):\n",
        "    filenames.append(labels[\"filenames\"][i])\n",
        "\n",
        "# Check the first 10\n",
        "filenames[:10]"
      ]
    },
    {
      "cell_type": "code",
      "execution_count": null,
      "metadata": {
        "id": "7hywD7RyUNQH",
        "colab": {
          "base_uri": "https://localhost:8080/"
        },
        "outputId": "f8cc09bb-efef-4f96-f5f9-5f3802592e45"
      },
      "outputs": [
        {
          "output_type": "execute_result",
          "data": {
            "text/plain": [
              "0    Acne and Rosacea Photos\n",
              "1    Acne and Rosacea Photos\n",
              "2    Acne and Rosacea Photos\n",
              "3    Acne and Rosacea Photos\n",
              "4    Acne and Rosacea Photos\n",
              "Name: labels, dtype: object"
            ]
          },
          "metadata": {},
          "execution_count": 11
        }
      ],
      "source": [
        "labels = labels[\"labels\"]\n",
        "labels.head()"
      ]
    },
    {
      "cell_type": "markdown",
      "metadata": {
        "id": "LgAwIRlUUb7p"
      },
      "source": [
        "## Import CSV & Make Labels"
      ]
    },
    {
      "cell_type": "code",
      "execution_count": null,
      "metadata": {
        "id": "z9VhTNQRUUBh",
        "colab": {
          "base_uri": "https://localhost:8080/"
        },
        "outputId": "5d596e62-2d5a-419a-f58c-26f343037c95"
      },
      "outputs": [
        {
          "output_type": "execute_result",
          "data": {
            "text/plain": [
              "4"
            ]
          },
          "metadata": {},
          "execution_count": 12
        }
      ],
      "source": [
        "import numpy as np\n",
        "import pandas as pd\n",
        "# Check if all labels are unique\n",
        "labels = pd.read_csv('/content/drive/MyDrive/SkinDiseaseClassifier/labels.csv')\n",
        "unique_labels = np.unique(labels[\"labels\"])\n",
        "len(unique_labels)"
      ]
    },
    {
      "cell_type": "code",
      "execution_count": null,
      "metadata": {
        "id": "e35WB3_SUhDu",
        "colab": {
          "base_uri": "https://localhost:8080/"
        },
        "outputId": "526c4785-ec10-4fde-93f7-1ea40f50a22f"
      },
      "outputs": [
        {
          "output_type": "stream",
          "name": "stdout",
          "text": [
            "0                                 Acne and Rosacea Photos\n",
            "1                                 Acne and Rosacea Photos\n",
            "2                                 Acne and Rosacea Photos\n",
            "3                                 Acne and Rosacea Photos\n",
            "4                                 Acne and Rosacea Photos\n",
            "                              ...                        \n",
            "1899    Tinea Ringworm Candidiasis and other Fungal In...\n",
            "1900    Tinea Ringworm Candidiasis and other Fungal In...\n",
            "1901    Tinea Ringworm Candidiasis and other Fungal In...\n",
            "1902    Tinea Ringworm Candidiasis and other Fungal In...\n",
            "1903    Tinea Ringworm Candidiasis and other Fungal In...\n",
            "Name: labels, Length: 1904, dtype: object\n"
          ]
        },
        {
          "output_type": "execute_result",
          "data": {
            "text/plain": [
              "array([ True, False, False, False])"
            ]
          },
          "metadata": {},
          "execution_count": 13
        }
      ],
      "source": [
        "# Turn every label into a boolean array (Compare with all breeds and the only True value will be the class it belongs to)\n",
        "labels = labels[\"labels\"]\n",
        "print(labels)\n",
        "labels[0] == unique_labels"
      ]
    },
    {
      "cell_type": "code",
      "execution_count": null,
      "metadata": {
        "id": "P5PanCK5UjLU",
        "colab": {
          "base_uri": "https://localhost:8080/"
        },
        "outputId": "aba97f2a-6fdd-4920-f437-b5a974903108"
      },
      "outputs": [
        {
          "output_type": "execute_result",
          "data": {
            "text/plain": [
              "[array([ True, False, False, False]), array([ True, False, False, False])]"
            ]
          },
          "metadata": {},
          "execution_count": 14
        }
      ],
      "source": [
        "# Do this for all labels\n",
        "\n",
        "boolean_labels = [label == unique_labels for label in labels]\n",
        "boolean_labels[:2]"
      ]
    },
    {
      "cell_type": "code",
      "execution_count": null,
      "metadata": {
        "id": "v5yIMG5aVCRW",
        "colab": {
          "base_uri": "https://localhost:8080/"
        },
        "outputId": "b1f70b72-afc2-4706-8de3-e65bc5ef779a"
      },
      "outputs": [
        {
          "output_type": "execute_result",
          "data": {
            "text/plain": [
              "1904"
            ]
          },
          "metadata": {},
          "execution_count": 15
        }
      ],
      "source": [
        "len(boolean_labels)"
      ]
    },
    {
      "cell_type": "code",
      "execution_count": null,
      "metadata": {
        "id": "PQKJTt_NVEra"
      },
      "outputs": [],
      "source": [
        "# Setup X and y variables\n",
        "\n",
        "X = filenames\n",
        "y = boolean_labels"
      ]
    },
    {
      "cell_type": "code",
      "execution_count": null,
      "metadata": {
        "id": "us2c5LOEVF-a",
        "colab": {
          "base_uri": "https://localhost:8080/"
        },
        "outputId": "c595d6e3-a32e-4d38-8dd6-5927d2b3964a"
      },
      "outputs": [
        {
          "output_type": "execute_result",
          "data": {
            "text/plain": [
              "1904"
            ]
          },
          "metadata": {},
          "execution_count": 17
        }
      ],
      "source": [
        "len(filenames)"
      ]
    },
    {
      "cell_type": "code",
      "execution_count": null,
      "metadata": {
        "id": "JNiPf3mkVITa",
        "colab": {
          "base_uri": "https://localhost:8080/"
        },
        "outputId": "4014f283-a066-460d-c48e-4f2de48f383e"
      },
      "outputs": [
        {
          "output_type": "execute_result",
          "data": {
            "text/plain": [
              "(1523, 1523, 381, 381)"
            ]
          },
          "metadata": {},
          "execution_count": 18
        }
      ],
      "source": [
        "# Let's split our data using Scikit-Learn's train-test-split\n",
        "from sklearn.model_selection import train_test_split\n",
        "\n",
        "# Split into training & validation sets\n",
        "X_train, X_val, y_train, y_val = train_test_split(X,\n",
        "                                                  y,\n",
        "                                                  test_size = 0.2,\n",
        "                                                  random_state = 42)\n",
        "\n",
        "len(X_train), len(y_train), len(X_val), len(y_val)"
      ]
    },
    {
      "cell_type": "code",
      "execution_count": null,
      "metadata": {
        "id": "gCDTzvHeVKhp",
        "colab": {
          "base_uri": "https://localhost:8080/"
        },
        "outputId": "685bd2bc-2657-4023-e50c-0b55c86440ab"
      },
      "outputs": [
        {
          "output_type": "execute_result",
          "data": {
            "text/plain": [
              "('/content/drive/MyDrive/SkinDiseaseClassifier/train/Actinic Keratosis Basal Cell Carcinoma and other Malignant Lesions/granulation-tissue-25.jpg',\n",
              " array([False,  True, False, False]))"
            ]
          },
          "metadata": {},
          "execution_count": 19
        }
      ],
      "source": [
        "# Let's have a gaze at the training data (filenames & boolean_labels)\n",
        "X_train[0], y_train[0]"
      ]
    },
    {
      "cell_type": "code",
      "execution_count": null,
      "metadata": {
        "id": "oPxK339_VONm",
        "colab": {
          "base_uri": "https://localhost:8080/"
        },
        "outputId": "3f4001f1-c52e-459c-d509-edc195d467f9"
      },
      "outputs": [
        {
          "output_type": "execute_result",
          "data": {
            "text/plain": [
              "(720, 478, 3)"
            ]
          },
          "metadata": {},
          "execution_count": 20
        }
      ],
      "source": [
        "# Convert image to NumPy array\n",
        "from matplotlib.pyplot import imread\n",
        "image = imread(filenames[42])\n",
        "image.shape # Height, Width, Colour Channel (RGB)"
      ]
    },
    {
      "cell_type": "code",
      "execution_count": null,
      "metadata": {
        "id": "xCWkvVscVPoq",
        "colab": {
          "base_uri": "https://localhost:8080/"
        },
        "outputId": "233365e8-30ce-471f-94d9-7584114033c5"
      },
      "outputs": [
        {
          "output_type": "execute_result",
          "data": {
            "text/plain": [
              "(255, 0)"
            ]
          },
          "metadata": {},
          "execution_count": 21
        }
      ],
      "source": [
        "image.max(), image.min() # All values are pixel brightness values between 0 and 255"
      ]
    },
    {
      "cell_type": "code",
      "execution_count": null,
      "metadata": {
        "id": "TGb2RWEBVRRk",
        "colab": {
          "base_uri": "https://localhost:8080/"
        },
        "outputId": "1670be56-7b01-4da2-9be8-962ecaf5791b"
      },
      "outputs": [
        {
          "output_type": "execute_result",
          "data": {
            "text/plain": [
              "array([[[112,  73,  78],\n",
              "        [111,  72,  77],\n",
              "        [111,  72,  77],\n",
              "        ...,\n",
              "        [100,  75,  79],\n",
              "        [100,  75,  79],\n",
              "        [100,  75,  79]],\n",
              "\n",
              "       [[115,  76,  81],\n",
              "        [114,  75,  80],\n",
              "        [113,  74,  79],\n",
              "        ...,\n",
              "        [ 98,  73,  77],\n",
              "        [ 99,  74,  78],\n",
              "        [ 99,  74,  78]]], dtype=uint8)"
            ]
          },
          "metadata": {},
          "execution_count": 22
        }
      ],
      "source": [
        "image[:2]"
      ]
    },
    {
      "cell_type": "markdown",
      "metadata": {
        "id": "PclE0JzNVYhx"
      },
      "source": [
        "## Processing Function"
      ]
    },
    {
      "cell_type": "code",
      "execution_count": null,
      "metadata": {
        "id": "CotEHyW2VUCV"
      },
      "outputs": [],
      "source": [
        "# Define image size\n",
        "IMG_SIZE = 480\n",
        "\n",
        "# Create a function for preprocessing images\n",
        "def process_image(image_path):\n",
        "  \"\"\"\n",
        "  Takes an image file path and turns the image into a Tensor\n",
        "  \"\"\"\n",
        "  # Read in an image file\n",
        "  image = tf.io.read_file(image_path)\n",
        "\n",
        "  # Turn the jpg image into a numerical tensor with three color channels (RGB)\n",
        "  image = tf.image.decode_jpeg(image, channels = 3)\n",
        "\n",
        "  # Convert the colour channel values from 0-255 values to 0-1 values (Image Representation Using Floating Points Needs 0-1 Values)\n",
        "  image = tf.image.convert_image_dtype(image, tf.float32) # Normalization !\n",
        "\n",
        "  # Resize our image to our desired size (224,224)\n",
        "  image = tf.image.resize(image, size = [IMG_SIZE, IMG_SIZE])\n",
        "\n",
        "  return image"
      ]
    },
    {
      "cell_type": "markdown",
      "metadata": {
        "id": "yiqIFzsGVdV8"
      },
      "source": [
        "## Processing Function"
      ]
    },
    {
      "cell_type": "code",
      "execution_count": null,
      "metadata": {
        "id": "ZfyRREYsVbSS"
      },
      "outputs": [],
      "source": [
        "# Create a simple function to return a tuple (image, label)\n",
        "def get_image_label(image_path, label):\n",
        "  \"\"\"\n",
        "  Takes an image file path and the associated label\n",
        "  Processes image and returns tuple of (image, label)\n",
        "  \"\"\"\n",
        "  image = process_image(image_path)\n",
        "  return image, label"
      ]
    },
    {
      "cell_type": "markdown",
      "metadata": {
        "id": "xeJ69DxiVjC7"
      },
      "source": [
        "## Processing Function"
      ]
    },
    {
      "cell_type": "code",
      "execution_count": null,
      "metadata": {
        "id": "LJQBR0RXVf02"
      },
      "outputs": [],
      "source": [
        "# Define the batch size, 16 is a good start\n",
        "BATCH_SIZE = 16\n",
        "\n",
        "# Create a function to turn our data into batches\n",
        "def create_data_batches(X, y = None, batch_size = BATCH_SIZE, val_data = False, test_data = False):\n",
        "  \"\"\"\n",
        "  Creates batches of data out of image (X) and label (y) pairs.\n",
        "  Shuffles the data if it's training data but doesn't shuffle if it's validation data.\n",
        "  Also accepts test data as input (No Labels)\n",
        "  \"\"\"\n",
        "  # If the data is a test dataset, we don't have labels\n",
        "  if test_data:\n",
        "    print(\"Creating test data batches...\")\n",
        "    data = tf.data.Dataset.from_tensor_slices((tf.constant(X))) # Only filepaths, no labels (Makes dataset from slices of given tensor)\n",
        "    data_batch = data.map(process_image).batch(BATCH_SIZE) # Creates batches of given batch size\n",
        "    return data_batch\n",
        "\n",
        "  # If the data is validation dataset, we don't need to shuffle it\n",
        "  elif val_data:\n",
        "    print(\"Creating validation data batches...\")\n",
        "    data = tf.data.Dataset.from_tensor_slices((tf.constant(X),  # filepaths\n",
        "                                               tf.constant(y))) # labels\n",
        "    data_batch = data.map(get_image_label).batch(BATCH_SIZE)\n",
        "    return data_batch\n",
        "\n",
        "  else: # It's training data\n",
        "    print(\"Creating training data batches...\")\n",
        "    # Turn filepaths and labels into tensors\n",
        "    data = tf.data.Dataset.from_tensor_slices((tf.constant(X),\n",
        "                                               tf.constant(y)))\n",
        "    # Shuffling before preprocessing images is faster\n",
        "    data = data.shuffle(buffer_size = len(X))\n",
        "\n",
        "    # Create (image, label) tuples and preprocess the image\n",
        "    data_batch = data.map(get_image_label).batch(BATCH_SIZE)\n",
        "    return data_batch"
      ]
    },
    {
      "cell_type": "code",
      "execution_count": null,
      "metadata": {
        "id": "_JEEgsiuVkWi",
        "colab": {
          "base_uri": "https://localhost:8080/"
        },
        "outputId": "4b33df11-1710-4e39-a71a-54bbefad62aa"
      },
      "outputs": [
        {
          "output_type": "stream",
          "name": "stdout",
          "text": [
            "Creating training data batches...\n",
            "Creating validation data batches...\n"
          ]
        }
      ],
      "source": [
        "# Creating training and validation data batches\n",
        "\n",
        "train_data = create_data_batches(X_train, y_train)\n",
        "val_data = create_data_batches(X_val, y_val, val_data = True)"
      ]
    },
    {
      "cell_type": "code",
      "execution_count": null,
      "metadata": {
        "id": "jAMFFtHRVrAk"
      },
      "outputs": [],
      "source": [
        "# Setup input shape\n",
        "INPUT_SHAPE = [None, IMG_SIZE, IMG_SIZE, 3] # (batch size, height, width, color channels)\n",
        "\n",
        "# Setup output shape\n",
        "OUTPUT_SHAPE = len(unique_labels)\n",
        "\n",
        "# Setup model URL\n",
        "MODEL_URL = \"https://tfhub.dev/google/imagenet/efficientnet_v2_imagenet21k_ft1k_m/feature_vector/2\""
      ]
    },
    {
      "cell_type": "code",
      "execution_count": null,
      "metadata": {
        "id": "QBEoPWbGV1Bl"
      },
      "outputs": [],
      "source": [
        "from tensorflow import keras # Importing Keras API\n",
        "from keras.models import Sequential # Importing The Sequential Model From Keras API\n",
        "from keras.layers import Dense # Importing The Dense Layer From Keras API\n",
        "from keras.losses import CategoricalCrossentropy\n",
        "from keras.optimizers import Adam\n",
        "\n",
        "# Create a function which builds a Keras model\n",
        "\n",
        "def create_model(input_shape = INPUT_SHAPE, output_shape = OUTPUT_SHAPE, model_url = MODEL_URL):\n",
        "  print(\"Building Model With : \", model_url)\n",
        "  feature_extractor = hub.KerasLayer(model_url, trainable = True)\n",
        "\n",
        "  # Setting Up The Model Layers\n",
        "  model = Sequential([\n",
        "      feature_extractor, # Layer 1 - Input Layer\n",
        "      Dense(256, activation='relu'),\n",
        "      Dense(units = OUTPUT_SHAPE,\n",
        "            activation = \"linear\") # Layer 2 - Output Layer (Softmax Classification)\n",
        "  ])\n",
        "\n",
        "  # Compile The Model\n",
        "  model.compile(\n",
        "      loss = CategoricalCrossentropy(),\n",
        "      optimizer = Adam(),\n",
        "      metrics = [\"accuracy\"]\n",
        "  )\n",
        "\n",
        "  # Build The Model\n",
        "  model.build(input_shape)\n",
        "\n",
        "  return model"
      ]
    },
    {
      "cell_type": "code",
      "execution_count": null,
      "metadata": {
        "id": "5pfl1bm_V4FD",
        "colab": {
          "base_uri": "https://localhost:8080/"
        },
        "outputId": "a2d5cf4a-3401-48ff-9a0e-19f22dd15eac"
      },
      "outputs": [
        {
          "output_type": "stream",
          "name": "stdout",
          "text": [
            "Building Model With :  https://tfhub.dev/google/imagenet/efficientnet_v2_imagenet21k_ft1k_m/feature_vector/2\n",
            "Model: \"sequential\"\n",
            "_________________________________________________________________\n",
            " Layer (type)                Output Shape              Param #   \n",
            "=================================================================\n",
            " keras_layer (KerasLayer)    (None, 1280)              53150388  \n",
            "                                                                 \n",
            " dense (Dense)               (None, 256)               327936    \n",
            "                                                                 \n",
            " dense_1 (Dense)             (None, 4)                 1028      \n",
            "                                                                 \n",
            "=================================================================\n",
            "Total params: 53,479,352\n",
            "Trainable params: 53,187,320\n",
            "Non-trainable params: 292,032\n",
            "_________________________________________________________________\n"
          ]
        }
      ],
      "source": [
        "model = create_model()\n",
        "model.summary()"
      ]
    },
    {
      "cell_type": "code",
      "execution_count": null,
      "metadata": {
        "id": "eW9IL9jQV7GY"
      },
      "outputs": [],
      "source": [
        "# Load TensorBoard Notebook Extension\n",
        "\n",
        "%load_ext tensorboard\n",
        "# Magic Function To Load Notebook Extension"
      ]
    },
    {
      "cell_type": "code",
      "execution_count": null,
      "metadata": {
        "id": "AgmeZE-iV9Z_"
      },
      "outputs": [],
      "source": [
        "import datetime\n",
        "from keras.callbacks import TensorBoard, EarlyStopping\n",
        "# Create a function to build a TensorBoard Callback\n",
        "\n",
        "def create_tensorboard_callback():\n",
        "\n",
        "  # Create a log directory to store TensorBoard logs which get tracked whenever we run an experiment\n",
        "  logdir = os.path.join(\"drive/MyDrive/SkinDiseaseClassifier/logs\",\n",
        "                        datetime.datetime.now().strftime(\"%Y%m%d-%H%m%s\"))\n",
        "  return TensorBoard(logdir)"
      ]
    },
    {
      "cell_type": "code",
      "execution_count": null,
      "metadata": {
        "id": "Hl6EnIkVWAmm"
      },
      "outputs": [],
      "source": [
        "# Create Early Stopping Callback ( Monitor - Value To Be Tracked For Stopping , Patience = No. Of Epochs To Tolerate)\n",
        "\n",
        "early_stopping = EarlyStopping(monitor = \"val_accuracy\",\n",
        "                               patience = 3)"
      ]
    },
    {
      "cell_type": "code",
      "execution_count": null,
      "metadata": {
        "id": "DeK5yfucWCYs"
      },
      "outputs": [],
      "source": [
        "# Build a function to train and return a model\n",
        "def train_model():\n",
        "  \"\"\"\n",
        "  Trains a given model and returns the trained version.\n",
        "  \"\"\"\n",
        "  # Create a model\n",
        "  model = create_model()\n",
        "\n",
        "  # Create new TensorBoard session whenever we train our model\n",
        "  tensorboard = create_tensorboard_callback()\n",
        "\n",
        "  # Fit the model to the data passing it the callbacks we created\n",
        "  model.fit(x = train_data,\n",
        "            epochs = 100,\n",
        "            validation_data = val_data,\n",
        "            validation_freq = 1,\n",
        "            callbacks = [tensorboard, early_stopping])\n",
        "\n",
        "  # Return the fitted model\n",
        "  return model"
      ]
    },
    {
      "cell_type": "code",
      "execution_count": null,
      "metadata": {
        "id": "GpBVhNFqWEiQ",
        "colab": {
          "base_uri": "https://localhost:8080/",
          "height": 467
        },
        "outputId": "8382f6a5-65cd-4be3-c274-59e7ec376887"
      },
      "outputs": [
        {
          "output_type": "stream",
          "name": "stdout",
          "text": [
            "Building Model With :  https://tfhub.dev/google/imagenet/efficientnet_v2_imagenet21k_ft1k_m/feature_vector/2\n",
            "Epoch 1/100\n"
          ]
        },
        {
          "output_type": "error",
          "ename": "ResourceExhaustedError",
          "evalue": "ignored",
          "traceback": [
            "\u001b[0;31m---------------------------------------------------------------------------\u001b[0m",
            "\u001b[0;31mResourceExhaustedError\u001b[0m                    Traceback (most recent call last)",
            "\u001b[0;32m<ipython-input-34-158a0274e673>\u001b[0m in \u001b[0;36m<cell line: 2>\u001b[0;34m()\u001b[0m\n\u001b[1;32m      1\u001b[0m \u001b[0;31m#  Fit the model to our data\u001b[0m\u001b[0;34m\u001b[0m\u001b[0;34m\u001b[0m\u001b[0m\n\u001b[0;32m----> 2\u001b[0;31m \u001b[0mmodel\u001b[0m \u001b[0;34m=\u001b[0m \u001b[0mtrain_model\u001b[0m\u001b[0;34m(\u001b[0m\u001b[0;34m)\u001b[0m\u001b[0;34m\u001b[0m\u001b[0;34m\u001b[0m\u001b[0m\n\u001b[0m",
            "\u001b[0;32m<ipython-input-33-1acfcb553280>\u001b[0m in \u001b[0;36mtrain_model\u001b[0;34m()\u001b[0m\n\u001b[1;32m     11\u001b[0m \u001b[0;34m\u001b[0m\u001b[0m\n\u001b[1;32m     12\u001b[0m   \u001b[0;31m# Fit the model to the data passing it the callbacks we created\u001b[0m\u001b[0;34m\u001b[0m\u001b[0;34m\u001b[0m\u001b[0m\n\u001b[0;32m---> 13\u001b[0;31m   model.fit(x = train_data,\n\u001b[0m\u001b[1;32m     14\u001b[0m             \u001b[0mepochs\u001b[0m \u001b[0;34m=\u001b[0m \u001b[0;36m100\u001b[0m\u001b[0;34m,\u001b[0m\u001b[0;34m\u001b[0m\u001b[0;34m\u001b[0m\u001b[0m\n\u001b[1;32m     15\u001b[0m             \u001b[0mvalidation_data\u001b[0m \u001b[0;34m=\u001b[0m \u001b[0mval_data\u001b[0m\u001b[0;34m,\u001b[0m\u001b[0;34m\u001b[0m\u001b[0;34m\u001b[0m\u001b[0m\n",
            "\u001b[0;32m/usr/local/lib/python3.9/dist-packages/keras/utils/traceback_utils.py\u001b[0m in \u001b[0;36merror_handler\u001b[0;34m(*args, **kwargs)\u001b[0m\n\u001b[1;32m     68\u001b[0m             \u001b[0;31m# To get the full stack trace, call:\u001b[0m\u001b[0;34m\u001b[0m\u001b[0;34m\u001b[0m\u001b[0m\n\u001b[1;32m     69\u001b[0m             \u001b[0;31m# `tf.debugging.disable_traceback_filtering()`\u001b[0m\u001b[0;34m\u001b[0m\u001b[0;34m\u001b[0m\u001b[0m\n\u001b[0;32m---> 70\u001b[0;31m             \u001b[0;32mraise\u001b[0m \u001b[0me\u001b[0m\u001b[0;34m.\u001b[0m\u001b[0mwith_traceback\u001b[0m\u001b[0;34m(\u001b[0m\u001b[0mfiltered_tb\u001b[0m\u001b[0;34m)\u001b[0m \u001b[0;32mfrom\u001b[0m \u001b[0;32mNone\u001b[0m\u001b[0;34m\u001b[0m\u001b[0;34m\u001b[0m\u001b[0m\n\u001b[0m\u001b[1;32m     71\u001b[0m         \u001b[0;32mfinally\u001b[0m\u001b[0;34m:\u001b[0m\u001b[0;34m\u001b[0m\u001b[0;34m\u001b[0m\u001b[0m\n\u001b[1;32m     72\u001b[0m             \u001b[0;32mdel\u001b[0m \u001b[0mfiltered_tb\u001b[0m\u001b[0;34m\u001b[0m\u001b[0;34m\u001b[0m\u001b[0m\n",
            "\u001b[0;32m/usr/local/lib/python3.9/dist-packages/tensorflow/python/eager/execute.py\u001b[0m in \u001b[0;36mquick_execute\u001b[0;34m(op_name, num_outputs, inputs, attrs, ctx, name)\u001b[0m\n\u001b[1;32m     50\u001b[0m   \u001b[0;32mtry\u001b[0m\u001b[0;34m:\u001b[0m\u001b[0;34m\u001b[0m\u001b[0;34m\u001b[0m\u001b[0m\n\u001b[1;32m     51\u001b[0m     \u001b[0mctx\u001b[0m\u001b[0;34m.\u001b[0m\u001b[0mensure_initialized\u001b[0m\u001b[0;34m(\u001b[0m\u001b[0;34m)\u001b[0m\u001b[0;34m\u001b[0m\u001b[0;34m\u001b[0m\u001b[0m\n\u001b[0;32m---> 52\u001b[0;31m     tensors = pywrap_tfe.TFE_Py_Execute(ctx._handle, device_name, op_name,\n\u001b[0m\u001b[1;32m     53\u001b[0m                                         inputs, attrs, num_outputs)\n\u001b[1;32m     54\u001b[0m   \u001b[0;32mexcept\u001b[0m \u001b[0mcore\u001b[0m\u001b[0;34m.\u001b[0m\u001b[0m_NotOkStatusException\u001b[0m \u001b[0;32mas\u001b[0m \u001b[0me\u001b[0m\u001b[0;34m:\u001b[0m\u001b[0;34m\u001b[0m\u001b[0;34m\u001b[0m\u001b[0m\n",
            "\u001b[0;31mResourceExhaustedError\u001b[0m: Graph execution error:\n\nOOM when allocating tensor with shape[1056] and type float on /job:localhost/replica:0/task:0/device:GPU:0 by allocator GPU_0_bfc\n\t [[{{node tpu_batch_normalization/FusedBatchNormV3}}]]\nHint: If you want to see a list of allocated tensors when OOM happens, add report_tensor_allocations_upon_oom to RunOptions for current allocation info. This isn't available when running in Eager mode.\n [Op:__inference_train_function_187483]"
          ]
        }
      ],
      "source": [
        "#  Fit the model to our data\n",
        "model = train_model()"
      ]
    },
    {
      "cell_type": "code",
      "source": [],
      "metadata": {
        "id": "l_gwUYwmCJAZ"
      },
      "execution_count": null,
      "outputs": []
    }
  ],
  "metadata": {
    "colab": {
      "provenance": []
    },
    "gpuClass": "standard",
    "kernelspec": {
      "display_name": "Python 3",
      "name": "python3"
    },
    "language_info": {
      "name": "python"
    },
    "accelerator": "GPU"
  },
  "nbformat": 4,
  "nbformat_minor": 0
}